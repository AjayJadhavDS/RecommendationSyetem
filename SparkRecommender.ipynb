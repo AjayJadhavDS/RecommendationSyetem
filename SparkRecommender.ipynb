{
 "cells": [
  {
   "cell_type": "code",
   "execution_count": 21,
   "metadata": {},
   "outputs": [],
   "source": [
    "# Reading the dataset\n",
    "\n",
    "import pandas as pd\n",
    "import os\n",
    "os.chdir('C:/Users/dell/Downloads/AjayB')\n",
    "df = pd.read_csv(\"ccx_row_input_data.csv\",encoding='latin-1',nrows=200)\n",
    "df = df[['profileId', 'programId', 'score', 'name']]"
   ]
  },
  {
   "cell_type": "code",
   "execution_count": 22,
   "metadata": {},
   "outputs": [
    {
     "data": {
      "text/plain": [
       "(200, 4)"
      ]
     },
     "execution_count": 22,
     "metadata": {},
     "output_type": "execute_result"
    }
   ],
   "source": [
    "df.shape"
   ]
  },
  {
   "cell_type": "code",
   "execution_count": 23,
   "metadata": {},
   "outputs": [
    {
     "data": {
      "text/html": [
       "<div>\n",
       "<style scoped>\n",
       "    .dataframe tbody tr th:only-of-type {\n",
       "        vertical-align: middle;\n",
       "    }\n",
       "\n",
       "    .dataframe tbody tr th {\n",
       "        vertical-align: top;\n",
       "    }\n",
       "\n",
       "    .dataframe thead th {\n",
       "        text-align: right;\n",
       "    }\n",
       "</style>\n",
       "<table border=\"1\" class=\"dataframe\">\n",
       "  <thead>\n",
       "    <tr style=\"text-align: right;\">\n",
       "      <th></th>\n",
       "      <th>profileId</th>\n",
       "      <th>programId</th>\n",
       "      <th>score</th>\n",
       "      <th>name</th>\n",
       "    </tr>\n",
       "  </thead>\n",
       "  <tbody>\n",
       "    <tr>\n",
       "      <th>0</th>\n",
       "      <td>[ee535a1d-6034-4bd9-a154-b21dd7a8e03c]</td>\n",
       "      <td>667969ThirdParty3331353638303536</td>\n",
       "      <td>30.00</td>\n",
       "      <td>L'enlÌ¬vement 2</td>\n",
       "    </tr>\n",
       "    <tr>\n",
       "      <th>1</th>\n",
       "      <td>[df82733a-97c1-4002-81fa-fe6933600eb3]</td>\n",
       "      <td>667969ThirdParty3332393432343436</td>\n",
       "      <td>30.00</td>\n",
       "      <td>ÌÛ la valdrague</td>\n",
       "    </tr>\n",
       "    <tr>\n",
       "      <th>2</th>\n",
       "      <td>[15221437-5617-4bba-a57e-ab7febed831e]</td>\n",
       "      <td>667969ThirdParty373732323236</td>\n",
       "      <td>30.00</td>\n",
       "      <td>Taking Chance</td>\n",
       "    </tr>\n",
       "    <tr>\n",
       "      <th>3</th>\n",
       "      <td>[c6f96fd7-a955-4fb2-9446-06be4d80e09a]</td>\n",
       "      <td>667969ThirdParty3330313932323231</td>\n",
       "      <td>10.64</td>\n",
       "      <td>Rapides et dangereux</td>\n",
       "    </tr>\n",
       "    <tr>\n",
       "      <th>4</th>\n",
       "      <td>[ea34f2aa-0baa-49e3-b7a7-a7873b2b8db6]</td>\n",
       "      <td>667969ThirdParty3330313932323231</td>\n",
       "      <td>35.48</td>\n",
       "      <td>Rapides et dangereux</td>\n",
       "    </tr>\n",
       "  </tbody>\n",
       "</table>\n",
       "</div>"
      ],
      "text/plain": [
       "                                profileId                         programId  \\\n",
       "0  [ee535a1d-6034-4bd9-a154-b21dd7a8e03c]  667969ThirdParty3331353638303536   \n",
       "1  [df82733a-97c1-4002-81fa-fe6933600eb3]  667969ThirdParty3332393432343436   \n",
       "2  [15221437-5617-4bba-a57e-ab7febed831e]      667969ThirdParty373732323236   \n",
       "3  [c6f96fd7-a955-4fb2-9446-06be4d80e09a]  667969ThirdParty3330313932323231   \n",
       "4  [ea34f2aa-0baa-49e3-b7a7-a7873b2b8db6]  667969ThirdParty3330313932323231   \n",
       "\n",
       "   score                  name  \n",
       "0  30.00       L'enlÌ¬vement 2  \n",
       "1  30.00       ÌÛ la valdrague  \n",
       "2  30.00         Taking Chance  \n",
       "3  10.64  Rapides et dangereux  \n",
       "4  35.48  Rapides et dangereux  "
      ]
     },
     "execution_count": 23,
     "metadata": {},
     "output_type": "execute_result"
    }
   ],
   "source": [
    "df.head()"
   ]
  },
  {
   "cell_type": "code",
   "execution_count": 24,
   "metadata": {},
   "outputs": [],
   "source": [
    "data = df.dropna()"
   ]
  },
  {
   "cell_type": "code",
   "execution_count": 25,
   "metadata": {},
   "outputs": [],
   "source": [
    "from sklearn.preprocessing import LabelEncoder\n",
    "le = LabelEncoder()"
   ]
  },
  {
   "cell_type": "code",
   "execution_count": 26,
   "metadata": {},
   "outputs": [],
   "source": [
    "data['profileId'] = data['profileId'].astype(\"category\")\n",
    "data['profileId'] = le.fit_transform(data['profileId'])"
   ]
  },
  {
   "cell_type": "code",
   "execution_count": 27,
   "metadata": {},
   "outputs": [],
   "source": [
    "data['programId'] = data['programId'].astype(\"category\")\n",
    "le_1 = LabelEncoder()\n",
    "data['programId'] = le_1.fit_transform(data['programId'])"
   ]
  },
  {
   "cell_type": "code",
   "execution_count": 28,
   "metadata": {},
   "outputs": [],
   "source": [
    "data['name'] = data['name'].astype(\"category\")\n",
    "le_2 = LabelEncoder()\n",
    "data['name'] = le_2.fit_transform(data['name'])\n"
   ]
  },
  {
   "cell_type": "code",
   "execution_count": 29,
   "metadata": {},
   "outputs": [
    {
     "data": {
      "text/html": [
       "<div>\n",
       "<style scoped>\n",
       "    .dataframe tbody tr th:only-of-type {\n",
       "        vertical-align: middle;\n",
       "    }\n",
       "\n",
       "    .dataframe tbody tr th {\n",
       "        vertical-align: top;\n",
       "    }\n",
       "\n",
       "    .dataframe thead th {\n",
       "        text-align: right;\n",
       "    }\n",
       "</style>\n",
       "<table border=\"1\" class=\"dataframe\">\n",
       "  <thead>\n",
       "    <tr style=\"text-align: right;\">\n",
       "      <th></th>\n",
       "      <th>profileId</th>\n",
       "      <th>programId</th>\n",
       "      <th>score</th>\n",
       "      <th>name</th>\n",
       "    </tr>\n",
       "  </thead>\n",
       "  <tbody>\n",
       "    <tr>\n",
       "      <th>0</th>\n",
       "      <td>117</td>\n",
       "      <td>24</td>\n",
       "      <td>30.00</td>\n",
       "      <td>25</td>\n",
       "    </tr>\n",
       "    <tr>\n",
       "      <th>1</th>\n",
       "      <td>105</td>\n",
       "      <td>31</td>\n",
       "      <td>30.00</td>\n",
       "      <td>45</td>\n",
       "    </tr>\n",
       "    <tr>\n",
       "      <th>2</th>\n",
       "      <td>9</td>\n",
       "      <td>42</td>\n",
       "      <td>30.00</td>\n",
       "      <td>35</td>\n",
       "    </tr>\n",
       "    <tr>\n",
       "      <th>3</th>\n",
       "      <td>94</td>\n",
       "      <td>21</td>\n",
       "      <td>10.64</td>\n",
       "      <td>28</td>\n",
       "    </tr>\n",
       "    <tr>\n",
       "      <th>4</th>\n",
       "      <td>114</td>\n",
       "      <td>21</td>\n",
       "      <td>35.48</td>\n",
       "      <td>28</td>\n",
       "    </tr>\n",
       "  </tbody>\n",
       "</table>\n",
       "</div>"
      ],
      "text/plain": [
       "   profileId  programId  score  name\n",
       "0        117         24  30.00    25\n",
       "1        105         31  30.00    45\n",
       "2          9         42  30.00    35\n",
       "3         94         21  10.64    28\n",
       "4        114         21  35.48    28"
      ]
     },
     "execution_count": 29,
     "metadata": {},
     "output_type": "execute_result"
    }
   ],
   "source": [
    "data.head()"
   ]
  },
  {
   "cell_type": "code",
   "execution_count": 30,
   "metadata": {},
   "outputs": [
    {
     "ename": "ValueError",
     "evalue": "Cannot run multiple SparkContexts at once; existing SparkContext(app=pyspark-shell, master=local[*]) created by __init__ at <ipython-input-10-e8291d723f8a>:6 ",
     "output_type": "error",
     "traceback": [
      "\u001b[1;31m---------------------------------------------------------------------------\u001b[0m",
      "\u001b[1;31mValueError\u001b[0m                                Traceback (most recent call last)",
      "\u001b[1;32m<ipython-input-30-e8291d723f8a>\u001b[0m in \u001b[0;36m<module>\u001b[1;34m()\u001b[0m\n\u001b[0;32m      4\u001b[0m \u001b[1;32mfrom\u001b[0m \u001b[0mpyspark\u001b[0m \u001b[1;32mimport\u001b[0m \u001b[0mSparkContext\u001b[0m\u001b[1;33m\u001b[0m\u001b[0m\n\u001b[0;32m      5\u001b[0m \u001b[1;33m\u001b[0m\u001b[0m\n\u001b[1;32m----> 6\u001b[1;33m \u001b[0msc\u001b[0m \u001b[1;33m=\u001b[0m \u001b[0mSparkContext\u001b[0m\u001b[1;33m(\u001b[0m\u001b[1;33m)\u001b[0m\u001b[1;33m\u001b[0m\u001b[0m\n\u001b[0m",
      "\u001b[1;32m~\\Anaconda3\\lib\\site-packages\\pyspark\\context.py\u001b[0m in \u001b[0;36m__init__\u001b[1;34m(self, master, appName, sparkHome, pyFiles, environment, batchSize, serializer, conf, gateway, jsc, profiler_cls)\u001b[0m\n\u001b[0;32m    131\u001b[0m                     \" note this option will be removed in Spark 3.0\")\n\u001b[0;32m    132\u001b[0m \u001b[1;33m\u001b[0m\u001b[0m\n\u001b[1;32m--> 133\u001b[1;33m         \u001b[0mSparkContext\u001b[0m\u001b[1;33m.\u001b[0m\u001b[0m_ensure_initialized\u001b[0m\u001b[1;33m(\u001b[0m\u001b[0mself\u001b[0m\u001b[1;33m,\u001b[0m \u001b[0mgateway\u001b[0m\u001b[1;33m=\u001b[0m\u001b[0mgateway\u001b[0m\u001b[1;33m,\u001b[0m \u001b[0mconf\u001b[0m\u001b[1;33m=\u001b[0m\u001b[0mconf\u001b[0m\u001b[1;33m)\u001b[0m\u001b[1;33m\u001b[0m\u001b[0m\n\u001b[0m\u001b[0;32m    134\u001b[0m         \u001b[1;32mtry\u001b[0m\u001b[1;33m:\u001b[0m\u001b[1;33m\u001b[0m\u001b[0m\n\u001b[0;32m    135\u001b[0m             self._do_init(master, appName, sparkHome, pyFiles, environment, batchSize, serializer,\n",
      "\u001b[1;32m~\\Anaconda3\\lib\\site-packages\\pyspark\\context.py\u001b[0m in \u001b[0;36m_ensure_initialized\u001b[1;34m(cls, instance, gateway, conf)\u001b[0m\n\u001b[0;32m    330\u001b[0m                         \u001b[1;34m\" created by %s at %s:%s \"\u001b[0m\u001b[1;33m\u001b[0m\u001b[0m\n\u001b[0;32m    331\u001b[0m                         % (currentAppName, currentMaster,\n\u001b[1;32m--> 332\u001b[1;33m                             callsite.function, callsite.file, callsite.linenum))\n\u001b[0m\u001b[0;32m    333\u001b[0m                 \u001b[1;32melse\u001b[0m\u001b[1;33m:\u001b[0m\u001b[1;33m\u001b[0m\u001b[0m\n\u001b[0;32m    334\u001b[0m                     \u001b[0mSparkContext\u001b[0m\u001b[1;33m.\u001b[0m\u001b[0m_active_spark_context\u001b[0m \u001b[1;33m=\u001b[0m \u001b[0minstance\u001b[0m\u001b[1;33m\u001b[0m\u001b[0m\n",
      "\u001b[1;31mValueError\u001b[0m: Cannot run multiple SparkContexts at once; existing SparkContext(app=pyspark-shell, master=local[*]) created by __init__ at <ipython-input-10-e8291d723f8a>:6 "
     ]
    }
   ],
   "source": [
    "import pyspark\n",
    "from pyspark.sql import SparkSession\n",
    "from pyspark.ml.recommendation import ALS\n",
    "from pyspark import SparkContext\n",
    "\n",
    "sc = SparkContext()"
   ]
  },
  {
   "cell_type": "code",
   "execution_count": 31,
   "metadata": {},
   "outputs": [],
   "source": [
    "spark = SparkSession.builder.appName('pandasToSparkDF').getOrCreate()\n",
    "\n"
   ]
  },
  {
   "cell_type": "code",
   "execution_count": 32,
   "metadata": {},
   "outputs": [],
   "source": [
    "# ppandas dataframe to spark dataframe\n",
    "dfs = spark.createDataFrame(data)"
   ]
  },
  {
   "cell_type": "code",
   "execution_count": 33,
   "metadata": {},
   "outputs": [],
   "source": [
    "# train test split , 80 20 \n",
    "dfs_train, dfs_test = dfs.randomSplit([0.8, 0.2])"
   ]
  },
  {
   "cell_type": "code",
   "execution_count": 35,
   "metadata": {},
   "outputs": [],
   "source": [
    "from pyspark.ml.recommendation import ALS\n",
    "\n",
    "RANK = 10\n",
    "MAX_ITER = 15\n",
    "REG_PARAM = 0.05\n",
    "\n",
    "COL_USER = \"profileId\"\n",
    "COL_ITEM = \"name\"\n",
    "COL_RATING = \"score\"\n",
    "COL_PREDICTION = \"prediction\"\n",
    "\n",
    "als = ALS(\n",
    "    maxIter=MAX_ITER, \n",
    "    rank=RANK,\n",
    "    regParam=REG_PARAM, \n",
    "    userCol=COL_USER, \n",
    "    itemCol=COL_ITEM, \n",
    "    ratingCol=COL_RATING, \n",
    "    coldStartStrategy=\"drop\"\n",
    ")\n",
    "\n",
    "model = als.fit(dfs_train)"
   ]
  },
  {
   "cell_type": "code",
   "execution_count": 36,
   "metadata": {},
   "outputs": [],
   "source": [
    "dfs_pred = model.transform(dfs_test)\n"
   ]
  },
  {
   "cell_type": "code",
   "execution_count": 37,
   "metadata": {},
   "outputs": [
    {
     "name": "stdout",
     "output_type": "stream",
     "text": [
      "+---------+---------+-----+----+----------+\n",
      "|profileId|programId|score|name|prediction|\n",
      "+---------+---------+-----+----+----------+\n",
      "|       14|       12| 30.0|  34| 18.648788|\n",
      "|       66|       12| 30.0|  34| 24.802433|\n",
      "|      109|       29|100.0|  44| 108.64346|\n",
      "|       67|       29|100.0|  44|-11.501342|\n",
      "|       78|       35| 30.0|  13| 2.3072357|\n",
      "|       90|       25| 30.0|   6| 14.850961|\n",
      "|       85|       11| 90.0|   7|-15.695039|\n",
      "|       13|        9|  5.8|  33|  1.316195|\n",
      "|       49|        9|  5.8|  33|  1.316195|\n",
      "|       52|       34|100.0|   2| 52.290718|\n",
      "|        9|       34|100.0|   2|-82.710045|\n",
      "|       63|       34|100.0|   2| 46.334053|\n",
      "|      113|       34| 30.0|   2| 11.058773|\n",
      "|       98|       34|100.0|   2| 20.532871|\n",
      "|       78|       16|100.0|  36|  14.55468|\n",
      "|        5|       16|100.0|  36|  44.66456|\n",
      "|       59|       16| 30.0|  36|  56.11152|\n",
      "+---------+---------+-----+----+----------+\n",
      "\n"
     ]
    }
   ],
   "source": [
    "dfs_pred.show()"
   ]
  },
  {
   "cell_type": "code",
   "execution_count": 38,
   "metadata": {},
   "outputs": [],
   "source": [
    "users = dfs_train.select('profileId').distinct()\n",
    "items = dfs_train.select('name').distinct()\n",
    "user_item = users.crossJoin(items)\n",
    "dfs_pred = model.transform(user_item)"
   ]
  },
  {
   "cell_type": "code",
   "execution_count": 39,
   "metadata": {},
   "outputs": [],
   "source": [
    "# Remove seen items.\n",
    "dfs_pred_exclude_train = dfs_pred.alias(\"pred\").join(\n",
    "    dfs_train.alias(\"train\"),\n",
    "    (dfs_pred['profileId'] == dfs_train['profileId']) & (dfs_pred['name'] == dfs_train['name']),\n",
    "    how='outer'\n",
    ")"
   ]
  },
  {
   "cell_type": "code",
   "execution_count": 40,
   "metadata": {},
   "outputs": [
    {
     "name": "stdout",
     "output_type": "stream",
     "text": [
      "+---------+----+----------+---------+---------+-----+----+\n",
      "|profileId|name|prediction|profileId|programId|score|name|\n",
      "+---------+----+----------+---------+---------+-----+----+\n",
      "|       15|  18| 7.5308795|     null|     null| null|null|\n",
      "|       21|   9|-5.3684297|     null|     null| null|null|\n",
      "|       22|  25| 16.632195|     null|     null| null|null|\n",
      "|       25|  24| 1.1157551|     null|     null| null|null|\n",
      "|       27|   0|  8.114546|     null|     null| null|null|\n",
      "|       27|  20| 11.365269|     null|     null| null|null|\n",
      "|       29|   3| 25.464739|     null|     null| null|null|\n",
      "|       29|  37|-1.1786822|     null|     null| null|null|\n",
      "|       33|  36| 29.997887|       33|       16| 30.0|  36|\n",
      "|       34|   6|  8.337781|     null|     null| null|null|\n",
      "|       35|  30|  6.886712|     null|     null| null|null|\n",
      "|       61|  34| 47.174744|     null|     null| null|null|\n",
      "|       68|  21|  5.609314|     null|     null| null|null|\n",
      "|       82|  10| 32.681553|     null|     null| null|null|\n",
      "|       83|  25| 0.1082592|     null|     null| null|null|\n",
      "|       86|   9|-21.818848|     null|     null| null|null|\n",
      "|       87|  33|  4.647318|     null|     null| null|null|\n",
      "|       92|  10|  8.589676|     null|     null| null|null|\n",
      "|      108|   8|-19.429737|     null|     null| null|null|\n",
      "|      112|  20|  9.365735|     null|     null| null|null|\n",
      "+---------+----+----------+---------+---------+-----+----+\n",
      "only showing top 20 rows\n",
      "\n"
     ]
    }
   ],
   "source": [
    "dfs_pred_exclude_train.show()"
   ]
  },
  {
   "cell_type": "code",
   "execution_count": 41,
   "metadata": {},
   "outputs": [
    {
     "data": {
      "text/plain": [
       "[Row(profileId=15, name=18, prediction=7.530879497528076),\n",
       " Row(profileId=21, name=9, prediction=-5.368429660797119)]"
      ]
     },
     "execution_count": 41,
     "metadata": {},
     "output_type": "execute_result"
    }
   ],
   "source": [
    "dfs_pred_final = dfs_pred_exclude_train.filter(dfs_pred_exclude_train[\"train.score\"].isNull()).select('pred.' + 'profileId', 'pred.' + 'name', 'pred.' + \"prediction\")\n",
    "\n",
    "dfs_pred_final.take(2)"
   ]
  },
  {
   "cell_type": "code",
   "execution_count": 42,
   "metadata": {},
   "outputs": [
    {
     "name": "stdout",
     "output_type": "stream",
     "text": [
      "+---------+----+----------+\n",
      "|profileId|name|prediction|\n",
      "+---------+----+----------+\n",
      "|       15|  18| 7.5308795|\n",
      "|       21|   9|-5.3684297|\n",
      "|       22|  25| 16.632195|\n",
      "|       25|  24| 1.1157551|\n",
      "|       27|   0|  8.114546|\n",
      "|       27|  20| 11.365269|\n",
      "|       29|   3| 25.464739|\n",
      "|       29|  37|-1.1786822|\n",
      "|       34|   6|  8.337781|\n",
      "|       35|  30|  6.886712|\n",
      "|       61|  34| 47.174744|\n",
      "|       68|  21|  5.609314|\n",
      "|       82|  10| 32.681553|\n",
      "|       83|  25| 0.1082592|\n",
      "|       86|   9|-21.818848|\n",
      "|       87|  33|  4.647318|\n",
      "|       92|  10|  8.589676|\n",
      "|      108|   8|-19.429737|\n",
      "|      112|  20|  9.365735|\n",
      "|      112|  39| 18.050344|\n",
      "+---------+----+----------+\n",
      "only showing top 20 rows\n",
      "\n"
     ]
    }
   ],
   "source": [
    "dfs_pred_final.show()"
   ]
  },
  {
   "cell_type": "code",
   "execution_count": 43,
   "metadata": {},
   "outputs": [
    {
     "name": "stdout",
     "output_type": "stream",
     "text": [
      "+---------+--------------------+\n",
      "|profileId|     recommendations|\n",
      "+---------+--------------------+\n",
      "|       65|[[21, 29.997046],...|\n",
      "|       26|[[2, 99.998886], ...|\n",
      "|       29|[[44, 99.99711], ...|\n",
      "+---------+--------------------+\n",
      "\n"
     ]
    }
   ],
   "source": [
    "# Top k for a selected set of users (items)¶\n",
    "\n",
    "users = dfs_train.select(als.getUserCol()).distinct().limit(3)\n",
    "\n",
    "dfs_rec_subset = model.recommendForUserSubset(users, 10)\n",
    "\n",
    "dfs_rec_subset.show(10)"
   ]
  },
  {
   "cell_type": "code",
   "execution_count": 44,
   "metadata": {},
   "outputs": [
    {
     "name": "stdout",
     "output_type": "stream",
     "text": [
      "+---------+--------------------+\n",
      "|profileId|     recommendations|\n",
      "+---------+--------------------+\n",
      "|       31|[[44, 108.64346],...|\n",
      "|       85|[[16, 89.99821], ...|\n",
      "|       65|[[21, 29.997046],...|\n",
      "|       78|[[38, 59.99846], ...|\n",
      "|      108|[[34, 39.693142],...|\n",
      "|       34|[[44, 62.329063],...|\n",
      "|      101|[[2, 99.999275], ...|\n",
      "|      115|[[44, 108.64346],...|\n",
      "|      126|[[22, 70.752655],...|\n",
      "|       76|[[44, 65.18608], ...|\n",
      "+---------+--------------------+\n",
      "only showing top 10 rows\n",
      "\n"
     ]
    }
   ],
   "source": [
    "dfs_rec = model.recommendForAllUsers(10)\n",
    "\n",
    "dfs_rec.show(10)"
   ]
  },
  {
   "cell_type": "code",
   "execution_count": 45,
   "metadata": {},
   "outputs": [
    {
     "name": "stdout",
     "output_type": "stream",
     "text": [
      "Root-mean-square error = 31.195965162209717\n"
     ]
    }
   ],
   "source": [
    "from pyspark.ml.evaluation import RegressionEvaluator\n",
    "\n",
    "evaluator = RegressionEvaluator(metricName=\"rmse\", labelCol=\"name\",\n",
    "                                predictionCol=\"prediction\")\n",
    "\n",
    "rmse = evaluator.evaluate(dfs_pred)\n",
    "print(\"Root-mean-square error = \" + str(rmse))"
   ]
  },
  {
   "cell_type": "code",
   "execution_count": 47,
   "metadata": {},
   "outputs": [],
   "source": [
    "from reco_utils.evaluation.spark_evaluation import SparkRankingEvaluation, SparkRatingEvaluation\n"
   ]
  },
  {
   "cell_type": "code",
   "execution_count": 49,
   "metadata": {},
   "outputs": [
    {
     "name": "stdout",
     "output_type": "stream",
     "text": [
      "Precision@k = 0.06875\n",
      "Recall@k = 0.65625\n",
      "NDCG@k = 0.40143496423697733\n",
      "Mean average precision = 0.30937499999999996\n"
     ]
    }
   ],
   "source": [
    "#Number of recommended items\n",
    "\n",
    "K = 10\n",
    "\n",
    "\n",
    "evaluations = SparkRankingEvaluation(\n",
    "    dfs_test, \n",
    "    dfs_pred_final,\n",
    "    col_user=COL_USER,\n",
    "    col_item=COL_ITEM,\n",
    "    col_rating=COL_RATING,\n",
    "    col_prediction=COL_PREDICTION,\n",
    "    k=K\n",
    ")\n",
    "\n",
    "print(\n",
    "    \"Precision@k = {}\".format(evaluations.precision_at_k()),\n",
    "    \"Recall@k = {}\".format(evaluations.recall_at_k()),\n",
    "    \"NDCG@k = {}\".format(evaluations.ndcg_at_k()),\n",
    "    \"Mean average precision = {}\".format(evaluations.map_at_k()),\n",
    "    sep=\"\\n\"\n",
    ")"
   ]
  },
  {
   "cell_type": "code",
   "execution_count": 53,
   "metadata": {},
   "outputs": [],
   "source": [
    "pandasOutput = dfs_pred_final.toPandas()"
   ]
  },
  {
   "cell_type": "code",
   "execution_count": 57,
   "metadata": {},
   "outputs": [
    {
     "data": {
      "text/html": [
       "<div>\n",
       "<style scoped>\n",
       "    .dataframe tbody tr th:only-of-type {\n",
       "        vertical-align: middle;\n",
       "    }\n",
       "\n",
       "    .dataframe tbody tr th {\n",
       "        vertical-align: top;\n",
       "    }\n",
       "\n",
       "    .dataframe thead th {\n",
       "        text-align: right;\n",
       "    }\n",
       "</style>\n",
       "<table border=\"1\" class=\"dataframe\">\n",
       "  <thead>\n",
       "    <tr style=\"text-align: right;\">\n",
       "      <th></th>\n",
       "      <th>profileId</th>\n",
       "      <th>name</th>\n",
       "      <th>prediction</th>\n",
       "    </tr>\n",
       "  </thead>\n",
       "  <tbody>\n",
       "    <tr>\n",
       "      <th>0</th>\n",
       "      <td>15</td>\n",
       "      <td>18</td>\n",
       "      <td>7.530879</td>\n",
       "    </tr>\n",
       "    <tr>\n",
       "      <th>1</th>\n",
       "      <td>21</td>\n",
       "      <td>9</td>\n",
       "      <td>-5.368430</td>\n",
       "    </tr>\n",
       "    <tr>\n",
       "      <th>2</th>\n",
       "      <td>22</td>\n",
       "      <td>25</td>\n",
       "      <td>16.632195</td>\n",
       "    </tr>\n",
       "    <tr>\n",
       "      <th>3</th>\n",
       "      <td>25</td>\n",
       "      <td>24</td>\n",
       "      <td>1.115755</td>\n",
       "    </tr>\n",
       "    <tr>\n",
       "      <th>4</th>\n",
       "      <td>27</td>\n",
       "      <td>0</td>\n",
       "      <td>8.114546</td>\n",
       "    </tr>\n",
       "  </tbody>\n",
       "</table>\n",
       "</div>"
      ],
      "text/plain": [
       "   profileId  name  prediction\n",
       "0         15    18    7.530879\n",
       "1         21     9   -5.368430\n",
       "2         22    25   16.632195\n",
       "3         25    24    1.115755\n",
       "4         27     0    8.114546"
      ]
     },
     "execution_count": 57,
     "metadata": {},
     "output_type": "execute_result"
    }
   ],
   "source": [
    "pandasOutput.head()"
   ]
  },
  {
   "cell_type": "code",
   "execution_count": 97,
   "metadata": {},
   "outputs": [],
   "source": [
    "backup = pandasOutput"
   ]
  },
  {
   "cell_type": "code",
   "execution_count": 98,
   "metadata": {},
   "outputs": [
    {
     "ename": "ValueError",
     "evalue": "y contains previously unseen labels: ['[071cbaa4-d762-4b34-a6b3-44b0f3717097]'\n '[09a5d78a-e17d-4e17-b0bb-d8129265c95d]'\n '[0a49485c-a47e-49ba-bcaa-16356472787b]'\n '[0de3eebb-54d0-4c2b-a257-a720d755f739]'\n '[0ebe48fc-5172-46cf-9184-b5de238b2eec]'\n '[12f4a239-d802-4d95-861f-fff133ff67d4]'\n '[140346b1-6e3d-4554-8860-b9be194a9a85]'\n '[148cb703-6388-4d5c-b9e2-db4e39aea0b7]'\n '[15221437-5617-4bba-a57e-ab7febed831e]'\n '[162931c4-59ca-4028-9e10-9c0a6e28823a]'\n '[16bc0f43-a61b-4e9d-8d76-11495c44bb45]'\n '[170b074d-f3bd-422f-9264-9778eecd1534]'\n '[17d0108b-6f05-4464-99a2-c3ea8a1087f4]'\n '[183ab5c2-92c2-4a48-b8fc-032f0ee6f7f1]'\n '[21c34c1d-23c6-4191-ae9a-5c3f91cb2cb9]'\n '[241b1d65-5905-42b2-9104-5c1580991f15]'\n '[28b8b56a-335f-4a21-8254-8e3527c4fb0b]'\n '[2a23e3e9-d943-4f30-a36f-597f5b1f774f]'\n '[2c6bf78c-5e2c-4a57-ba8e-dde8980757b8]'\n '[2e8ebf1e-dd97-492d-8f50-79917a4e3efc]'\n '[31ffcb2f-62c0-4ef5-8d01-33924a772bde]'\n '[3302bd0f-3972-4611-b61b-1ad3b616965b]'\n '[3965253d-511b-4cbe-bdad-3c34e61c9a1e]'\n '[3e613f48-b2ff-409f-87ff-d72af2679a6f]'\n '[401a7e2f-ec74-4007-949c-26b5d1b40c0f]'\n '[40dc1b39-8e81-421e-9f54-0f55a458f24b]'\n '[4100a63b-81b8-4382-b325-a3a862a5ff1b]'\n '[44673307-729d-46e7-a037-9e7774efa07d]'\n '[47777ec8-191c-4e88-bed9-6bbea2f1bf77]'\n '[4bca2099-3173-467d-93e2-9674e8c910e1]'\n '[4c101d53-0720-4ef2-b85a-5d5bbde53be1]'\n '[4da41c25-471b-420e-8d44-64386cf8b4aa]'\n '[516d35b9-b9bb-4f21-9a57-3015c7f99f5e]'\n '[533abace-469d-410a-8d99-ed5e74ca5c41]'\n '[54aa7bb4-46b8-488a-9208-bf7eae0a63ef]'\n '[5663d8a5-2fb3-4fd9-89eb-954a2e9ed078]'\n '[5812a2d7-ac3e-4a9c-9b6e-701b5dceeaae]'\n '[5e1b55ac-a8de-4fb2-bdc8-839b9ba3d285]'\n '[5f6cf0cb-ee2b-45c3-85b9-52155f2f9f0f]'\n '[610b249f-07c9-4ffa-bcf0-2e3145753a7c]'\n '[61b678d0-cdf1-4642-8d86-9a9210234189]'\n '[639051ed-4ff7-4896-9271-278ccc87c4fa]'\n '[6bfd3065-e228-421a-bd8e-02c768069973]'\n '[742757ce-0779-495f-afe5-85fd182388d2]'\n '[77eca755-00b3-4b15-acba-7efe6590aa3e]'\n '[7b8dba44-7eeb-4891-8b20-83283187aaef]'\n '[7cfa0340-24da-475a-95c0-efa9ba057752]'\n '[7fb7a9f8-9808-4e5b-8d13-94d5759482cd]'\n '[7fbf14da-20ee-4933-97b8-eeed6d859326]'\n '[82760d65-ce36-4c3c-9e3e-ba9ddbe74182]'\n '[85155d53-0d11-4c84-a523-cc69eea4314e]'\n '[8d0f2deb-a927-4ad8-a34a-0a8cf9ca6451]' '[9155724206313366338]'\n '[9155729615113769197]' '[9155729632813787948]' '[9155755522013993620]'\n '[9155876507213014883]' '[9155940902413331243]' '[9155975330313786634]'\n '[9156327512213275285]' '[94c1b99d-d4e9-4af0-8d8b-963e80edf471]'\n '[958aace3-5d56-43ab-9f33-1b264807ba75]'\n '[96ec401c-195d-404a-9751-12dc01e14b0c]'\n '[9af08be7-4982-484a-a332-03a42bfd9476]'\n '[9e200b09-c86e-41cd-b268-b7061df687b9]'\n '[a19d2842-c904-480c-a19e-81a4ede458f6]'\n '[a33836a1-6d8d-480f-b492-a97f6bc3e5c3]'\n '[a35de627-9159-4caf-84cb-636c7dc976cd]'\n '[a626d5de-5d86-405e-9c3f-0f6534cb347c]'\n '[ae19505c-4e8e-4dd9-b83f-fd76a137c7f0]'\n '[b11f0431-4739-45a5-8ae1-9a86e324bbfd]'\n '[b5d2d47e-af72-4958-aa6b-e38bacd73e94]'\n '[b7c45b5d-67b7-4d02-a4d9-e289668658a7]'\n '[bd263c19-cb40-47c0-8506-e8e49464414b]'\n '[c51a8454-c3be-4211-aa19-0072928d3a0a]'\n '[c6977905-9e9d-4e73-8793-a59b1d68a05f]'\n '[c6f96fd7-a955-4fb2-9446-06be4d80e09a]'\n '[c777f8ff-d67f-42d4-b88b-6ee6ce2b442c]'\n '[c9c740c4-6509-4472-a729-a0a633ebfe4a]'\n '[ce540557-734b-458f-8118-b9cba7982bd5]'\n '[cfe90742-bfef-49ab-8c20-76fbad0f375c]'\n '[d399c3d8-0f00-4c6e-a539-6a45b600212b]'\n '[d40dae91-5339-465b-bb8b-391a11e8552b]'\n '[d5489cb5-32db-40c1-97f4-eb13e531a96c]'\n '[d61ab7c8-5aa3-42a6-8286-e2ece2b6211a]' '[dallard1]'\n '[df82733a-97c1-4002-81fa-fe6933600eb3]' '[dsguser11]' '[dsguser24]'\n '[e56bcc04-6962-4411-a10b-a9354c1910a7]'\n '[e76e6b23-5403-46a8-9431-1015cd10e4f1]'\n '[e9ab3c07-4011-4788-bf9c-c2c5fe738df2]'\n '[e9e84e8f-6853-44a3-87e1-619028b76797]'\n '[ea05979f-ff98-4ac1-8603-cb88e5c00046]'\n '[ea34f2aa-0baa-49e3-b7a7-a7873b2b8db6]'\n '[ec243f5c-62c9-47ea-b35e-8f6d5282aa01]'\n '[ec328d33-68ce-42d3-91ea-b303a4d25421]'\n '[ee535a1d-6034-4bd9-a154-b21dd7a8e03c]' '[enguser17]'\n '[f06fe6ce-2470-43e6-8982-3836d1d1734a]'\n '[f09674d0-5b73-4af7-a950-66c243aa762d]'\n '[f22c8fff-63f9-4a28-8a7b-a92167fa35be]'\n '[f60a4259-d7f9-43db-9ca1-03d28b046270]'\n '[f7d7f8c6-7d81-4ce6-9709-a657c932c682]'\n '[f80e8448-71e3-4940-a16e-fd46391b077d]'\n '[faa2307a-9ba5-48a4-84d4-b6e0180061ed]' '[fieldops001]' '[fieldops002]'\n '[liteuser021]' '[mkuser16]' '[noc1etv3@live.com]' '[ont116]' '[ont144]'\n '[proj007]' '[proj025]' '[que075]' '[que116]' '[que128]' '[que162]'\n '[que168]' '[uatuser21]' '[vendor19]']",
     "output_type": "error",
     "traceback": [
      "\u001b[1;31m---------------------------------------------------------------------------\u001b[0m",
      "\u001b[1;31mValueError\u001b[0m                                Traceback (most recent call last)",
      "\u001b[1;32m<ipython-input-98-5e79627b50c3>\u001b[0m in \u001b[0;36m<module>\u001b[1;34m()\u001b[0m\n\u001b[1;32m----> 1\u001b[1;33m \u001b[0mbackup\u001b[0m\u001b[1;33m.\u001b[0m\u001b[0mprofileId\u001b[0m \u001b[1;33m=\u001b[0m \u001b[0mle\u001b[0m\u001b[1;33m.\u001b[0m\u001b[0minverse_transform\u001b[0m\u001b[1;33m(\u001b[0m\u001b[0mbackup\u001b[0m\u001b[1;33m.\u001b[0m\u001b[0mprofileId\u001b[0m\u001b[1;33m)\u001b[0m\u001b[1;33m\u001b[0m\u001b[0m\n\u001b[0m",
      "\u001b[1;32m~\\Anaconda3\\lib\\site-packages\\sklearn\\preprocessing\\label.py\u001b[0m in \u001b[0;36minverse_transform\u001b[1;34m(self, y)\u001b[0m\n\u001b[0;32m    279\u001b[0m         \u001b[1;32mif\u001b[0m \u001b[0mlen\u001b[0m\u001b[1;33m(\u001b[0m\u001b[0mdiff\u001b[0m\u001b[1;33m)\u001b[0m\u001b[1;33m:\u001b[0m\u001b[1;33m\u001b[0m\u001b[0m\n\u001b[0;32m    280\u001b[0m             raise ValueError(\n\u001b[1;32m--> 281\u001b[1;33m                     \"y contains previously unseen labels: %s\" % str(diff))\n\u001b[0m\u001b[0;32m    282\u001b[0m         \u001b[0my\u001b[0m \u001b[1;33m=\u001b[0m \u001b[0mnp\u001b[0m\u001b[1;33m.\u001b[0m\u001b[0masarray\u001b[0m\u001b[1;33m(\u001b[0m\u001b[0my\u001b[0m\u001b[1;33m)\u001b[0m\u001b[1;33m\u001b[0m\u001b[0m\n\u001b[0;32m    283\u001b[0m         \u001b[1;32mreturn\u001b[0m \u001b[0mself\u001b[0m\u001b[1;33m.\u001b[0m\u001b[0mclasses_\u001b[0m\u001b[1;33m[\u001b[0m\u001b[0my\u001b[0m\u001b[1;33m]\u001b[0m\u001b[1;33m\u001b[0m\u001b[0m\n",
      "\u001b[1;31mValueError\u001b[0m: y contains previously unseen labels: ['[071cbaa4-d762-4b34-a6b3-44b0f3717097]'\n '[09a5d78a-e17d-4e17-b0bb-d8129265c95d]'\n '[0a49485c-a47e-49ba-bcaa-16356472787b]'\n '[0de3eebb-54d0-4c2b-a257-a720d755f739]'\n '[0ebe48fc-5172-46cf-9184-b5de238b2eec]'\n '[12f4a239-d802-4d95-861f-fff133ff67d4]'\n '[140346b1-6e3d-4554-8860-b9be194a9a85]'\n '[148cb703-6388-4d5c-b9e2-db4e39aea0b7]'\n '[15221437-5617-4bba-a57e-ab7febed831e]'\n '[162931c4-59ca-4028-9e10-9c0a6e28823a]'\n '[16bc0f43-a61b-4e9d-8d76-11495c44bb45]'\n '[170b074d-f3bd-422f-9264-9778eecd1534]'\n '[17d0108b-6f05-4464-99a2-c3ea8a1087f4]'\n '[183ab5c2-92c2-4a48-b8fc-032f0ee6f7f1]'\n '[21c34c1d-23c6-4191-ae9a-5c3f91cb2cb9]'\n '[241b1d65-5905-42b2-9104-5c1580991f15]'\n '[28b8b56a-335f-4a21-8254-8e3527c4fb0b]'\n '[2a23e3e9-d943-4f30-a36f-597f5b1f774f]'\n '[2c6bf78c-5e2c-4a57-ba8e-dde8980757b8]'\n '[2e8ebf1e-dd97-492d-8f50-79917a4e3efc]'\n '[31ffcb2f-62c0-4ef5-8d01-33924a772bde]'\n '[3302bd0f-3972-4611-b61b-1ad3b616965b]'\n '[3965253d-511b-4cbe-bdad-3c34e61c9a1e]'\n '[3e613f48-b2ff-409f-87ff-d72af2679a6f]'\n '[401a7e2f-ec74-4007-949c-26b5d1b40c0f]'\n '[40dc1b39-8e81-421e-9f54-0f55a458f24b]'\n '[4100a63b-81b8-4382-b325-a3a862a5ff1b]'\n '[44673307-729d-46e7-a037-9e7774efa07d]'\n '[47777ec8-191c-4e88-bed9-6bbea2f1bf77]'\n '[4bca2099-3173-467d-93e2-9674e8c910e1]'\n '[4c101d53-0720-4ef2-b85a-5d5bbde53be1]'\n '[4da41c25-471b-420e-8d44-64386cf8b4aa]'\n '[516d35b9-b9bb-4f21-9a57-3015c7f99f5e]'\n '[533abace-469d-410a-8d99-ed5e74ca5c41]'\n '[54aa7bb4-46b8-488a-9208-bf7eae0a63ef]'\n '[5663d8a5-2fb3-4fd9-89eb-954a2e9ed078]'\n '[5812a2d7-ac3e-4a9c-9b6e-701b5dceeaae]'\n '[5e1b55ac-a8de-4fb2-bdc8-839b9ba3d285]'\n '[5f6cf0cb-ee2b-45c3-85b9-52155f2f9f0f]'\n '[610b249f-07c9-4ffa-bcf0-2e3145753a7c]'\n '[61b678d0-cdf1-4642-8d86-9a9210234189]'\n '[639051ed-4ff7-4896-9271-278ccc87c4fa]'\n '[6bfd3065-e228-421a-bd8e-02c768069973]'\n '[742757ce-0779-495f-afe5-85fd182388d2]'\n '[77eca755-00b3-4b15-acba-7efe6590aa3e]'\n '[7b8dba44-7eeb-4891-8b20-83283187aaef]'\n '[7cfa0340-24da-475a-95c0-efa9ba057752]'\n '[7fb7a9f8-9808-4e5b-8d13-94d5759482cd]'\n '[7fbf14da-20ee-4933-97b8-eeed6d859326]'\n '[82760d65-ce36-4c3c-9e3e-ba9ddbe74182]'\n '[85155d53-0d11-4c84-a523-cc69eea4314e]'\n '[8d0f2deb-a927-4ad8-a34a-0a8cf9ca6451]' '[9155724206313366338]'\n '[9155729615113769197]' '[9155729632813787948]' '[9155755522013993620]'\n '[9155876507213014883]' '[9155940902413331243]' '[9155975330313786634]'\n '[9156327512213275285]' '[94c1b99d-d4e9-4af0-8d8b-963e80edf471]'\n '[958aace3-5d56-43ab-9f33-1b264807ba75]'\n '[96ec401c-195d-404a-9751-12dc01e14b0c]'\n '[9af08be7-4982-484a-a332-03a42bfd9476]'\n '[9e200b09-c86e-41cd-b268-b7061df687b9]'\n '[a19d2842-c904-480c-a19e-81a4ede458f6]'\n '[a33836a1-6d8d-480f-b492-a97f6bc3e5c3]'\n '[a35de627-9159-4caf-84cb-636c7dc976cd]'\n '[a626d5de-5d86-405e-9c3f-0f6534cb347c]'\n '[ae19505c-4e8e-4dd9-b83f-fd76a137c7f0]'\n '[b11f0431-4739-45a5-8ae1-9a86e324bbfd]'\n '[b5d2d47e-af72-4958-aa6b-e38bacd73e94]'\n '[b7c45b5d-67b7-4d02-a4d9-e289668658a7]'\n '[bd263c19-cb40-47c0-8506-e8e49464414b]'\n '[c51a8454-c3be-4211-aa19-0072928d3a0a]'\n '[c6977905-9e9d-4e73-8793-a59b1d68a05f]'\n '[c6f96fd7-a955-4fb2-9446-06be4d80e09a]'\n '[c777f8ff-d67f-42d4-b88b-6ee6ce2b442c]'\n '[c9c740c4-6509-4472-a729-a0a633ebfe4a]'\n '[ce540557-734b-458f-8118-b9cba7982bd5]'\n '[cfe90742-bfef-49ab-8c20-76fbad0f375c]'\n '[d399c3d8-0f00-4c6e-a539-6a45b600212b]'\n '[d40dae91-5339-465b-bb8b-391a11e8552b]'\n '[d5489cb5-32db-40c1-97f4-eb13e531a96c]'\n '[d61ab7c8-5aa3-42a6-8286-e2ece2b6211a]' '[dallard1]'\n '[df82733a-97c1-4002-81fa-fe6933600eb3]' '[dsguser11]' '[dsguser24]'\n '[e56bcc04-6962-4411-a10b-a9354c1910a7]'\n '[e76e6b23-5403-46a8-9431-1015cd10e4f1]'\n '[e9ab3c07-4011-4788-bf9c-c2c5fe738df2]'\n '[e9e84e8f-6853-44a3-87e1-619028b76797]'\n '[ea05979f-ff98-4ac1-8603-cb88e5c00046]'\n '[ea34f2aa-0baa-49e3-b7a7-a7873b2b8db6]'\n '[ec243f5c-62c9-47ea-b35e-8f6d5282aa01]'\n '[ec328d33-68ce-42d3-91ea-b303a4d25421]'\n '[ee535a1d-6034-4bd9-a154-b21dd7a8e03c]' '[enguser17]'\n '[f06fe6ce-2470-43e6-8982-3836d1d1734a]'\n '[f09674d0-5b73-4af7-a950-66c243aa762d]'\n '[f22c8fff-63f9-4a28-8a7b-a92167fa35be]'\n '[f60a4259-d7f9-43db-9ca1-03d28b046270]'\n '[f7d7f8c6-7d81-4ce6-9709-a657c932c682]'\n '[f80e8448-71e3-4940-a16e-fd46391b077d]'\n '[faa2307a-9ba5-48a4-84d4-b6e0180061ed]' '[fieldops001]' '[fieldops002]'\n '[liteuser021]' '[mkuser16]' '[noc1etv3@live.com]' '[ont116]' '[ont144]'\n '[proj007]' '[proj025]' '[que075]' '[que116]' '[que128]' '[que162]'\n '[que168]' '[uatuser21]' '[vendor19]']"
     ]
    }
   ],
   "source": [
    "backup.profileId = le.inverse_transform(backup.profileId)"
   ]
  },
  {
   "cell_type": "code",
   "execution_count": 88,
   "metadata": {},
   "outputs": [
    {
     "data": {
      "text/html": [
       "<div>\n",
       "<style scoped>\n",
       "    .dataframe tbody tr th:only-of-type {\n",
       "        vertical-align: middle;\n",
       "    }\n",
       "\n",
       "    .dataframe tbody tr th {\n",
       "        vertical-align: top;\n",
       "    }\n",
       "\n",
       "    .dataframe thead th {\n",
       "        text-align: right;\n",
       "    }\n",
       "</style>\n",
       "<table border=\"1\" class=\"dataframe\">\n",
       "  <thead>\n",
       "    <tr style=\"text-align: right;\">\n",
       "      <th></th>\n",
       "      <th>profileId</th>\n",
       "      <th>name</th>\n",
       "      <th>prediction</th>\n",
       "    </tr>\n",
       "  </thead>\n",
       "  <tbody>\n",
       "    <tr>\n",
       "      <th>0</th>\n",
       "      <td>[17d0108b-6f05-4464-99a2-c3ea8a1087f4]</td>\n",
       "      <td>18</td>\n",
       "      <td>7</td>\n",
       "    </tr>\n",
       "    <tr>\n",
       "      <th>1</th>\n",
       "      <td>[2a23e3e9-d943-4f30-a36f-597f5b1f774f]</td>\n",
       "      <td>9</td>\n",
       "      <td>-5</td>\n",
       "    </tr>\n",
       "    <tr>\n",
       "      <th>2</th>\n",
       "      <td>[2c6bf78c-5e2c-4a57-ba8e-dde8980757b8]</td>\n",
       "      <td>25</td>\n",
       "      <td>16</td>\n",
       "    </tr>\n",
       "    <tr>\n",
       "      <th>3</th>\n",
       "      <td>[31ffcb2f-62c0-4ef5-8d01-33924a772bde]</td>\n",
       "      <td>24</td>\n",
       "      <td>1</td>\n",
       "    </tr>\n",
       "    <tr>\n",
       "      <th>4</th>\n",
       "      <td>[3965253d-511b-4cbe-bdad-3c34e61c9a1e]</td>\n",
       "      <td>0</td>\n",
       "      <td>8</td>\n",
       "    </tr>\n",
       "  </tbody>\n",
       "</table>\n",
       "</div>"
      ],
      "text/plain": [
       "                                profileId  name  prediction\n",
       "0  [17d0108b-6f05-4464-99a2-c3ea8a1087f4]    18           7\n",
       "1  [2a23e3e9-d943-4f30-a36f-597f5b1f774f]     9          -5\n",
       "2  [2c6bf78c-5e2c-4a57-ba8e-dde8980757b8]    25          16\n",
       "3  [31ffcb2f-62c0-4ef5-8d01-33924a772bde]    24           1\n",
       "4  [3965253d-511b-4cbe-bdad-3c34e61c9a1e]     0           8"
      ]
     },
     "execution_count": 88,
     "metadata": {},
     "output_type": "execute_result"
    }
   ],
   "source": [
    "backup.head()"
   ]
  },
  {
   "cell_type": "code",
   "execution_count": 110,
   "metadata": {},
   "outputs": [],
   "source": [
    "newbackup = backup[(backup.prediction>0) & (backup.prediction<=45)]"
   ]
  },
  {
   "cell_type": "code",
   "execution_count": 113,
   "metadata": {},
   "outputs": [
    {
     "name": "stderr",
     "output_type": "stream",
     "text": [
      "C:\\Users\\dell\\Anaconda3\\lib\\site-packages\\pandas\\core\\generic.py:3643: SettingWithCopyWarning: \n",
      "A value is trying to be set on a copy of a slice from a DataFrame.\n",
      "Try using .loc[row_indexer,col_indexer] = value instead\n",
      "\n",
      "See the caveats in the documentation: http://pandas.pydata.org/pandas-docs/stable/indexing.html#indexing-view-versus-copy\n",
      "  self[name] = value\n"
     ]
    }
   ],
   "source": [
    "newbackup.prediction = le_2.inverse_transform(newbackup.prediction)\n",
    "newbackup.name = le_2.inverse_transform(newbackup.name)"
   ]
  },
  {
   "cell_type": "code",
   "execution_count": 114,
   "metadata": {},
   "outputs": [
    {
     "data": {
      "text/html": [
       "<div>\n",
       "<style scoped>\n",
       "    .dataframe tbody tr th:only-of-type {\n",
       "        vertical-align: middle;\n",
       "    }\n",
       "\n",
       "    .dataframe tbody tr th {\n",
       "        vertical-align: top;\n",
       "    }\n",
       "\n",
       "    .dataframe thead th {\n",
       "        text-align: right;\n",
       "    }\n",
       "</style>\n",
       "<table border=\"1\" class=\"dataframe\">\n",
       "  <thead>\n",
       "    <tr style=\"text-align: right;\">\n",
       "      <th></th>\n",
       "      <th>profileId</th>\n",
       "      <th>name</th>\n",
       "      <th>prediction</th>\n",
       "    </tr>\n",
       "  </thead>\n",
       "  <tbody>\n",
       "    <tr>\n",
       "      <th>0</th>\n",
       "      <td>[17d0108b-6f05-4464-99a2-c3ea8a1087f4]</td>\n",
       "      <td>Friday the 13th Part VII: The New Blood</td>\n",
       "      <td>CTV Toronto News at 6</td>\n",
       "    </tr>\n",
       "    <tr>\n",
       "      <th>2</th>\n",
       "      <td>[2c6bf78c-5e2c-4a57-ba8e-dde8980757b8]</td>\n",
       "      <td>L'enlÌ¬vement 2</td>\n",
       "      <td>Fixer Upper</td>\n",
       "    </tr>\n",
       "    <tr>\n",
       "      <th>3</th>\n",
       "      <td>[31ffcb2f-62c0-4ef5-8d01-33924a772bde]</td>\n",
       "      <td>Jersey Shore</td>\n",
       "      <td>A Cure for Wellness</td>\n",
       "    </tr>\n",
       "    <tr>\n",
       "      <th>4</th>\n",
       "      <td>[3965253d-511b-4cbe-bdad-3c34e61c9a1e]</td>\n",
       "      <td>101 S02E01</td>\n",
       "      <td>Carter</td>\n",
       "    </tr>\n",
       "    <tr>\n",
       "      <th>5</th>\n",
       "      <td>[3965253d-511b-4cbe-bdad-3c34e61c9a1e]</td>\n",
       "      <td>Henchmen</td>\n",
       "      <td>David Lynch: The Art Life</td>\n",
       "    </tr>\n",
       "  </tbody>\n",
       "</table>\n",
       "</div>"
      ],
      "text/plain": [
       "                                profileId  \\\n",
       "0  [17d0108b-6f05-4464-99a2-c3ea8a1087f4]   \n",
       "2  [2c6bf78c-5e2c-4a57-ba8e-dde8980757b8]   \n",
       "3  [31ffcb2f-62c0-4ef5-8d01-33924a772bde]   \n",
       "4  [3965253d-511b-4cbe-bdad-3c34e61c9a1e]   \n",
       "5  [3965253d-511b-4cbe-bdad-3c34e61c9a1e]   \n",
       "\n",
       "                                      name                 prediction  \n",
       "0  Friday the 13th Part VII: The New Blood      CTV Toronto News at 6  \n",
       "2                          L'enlÌ¬vement 2                Fixer Upper  \n",
       "3                             Jersey Shore        A Cure for Wellness  \n",
       "4                               101 S02E01                     Carter  \n",
       "5                                 Henchmen  David Lynch: The Art Life  "
      ]
     },
     "execution_count": 114,
     "metadata": {},
     "output_type": "execute_result"
    }
   ],
   "source": [
    "newbackup.head()"
   ]
  },
  {
   "cell_type": "code",
   "execution_count": 116,
   "metadata": {},
   "outputs": [],
   "source": [
    "newbackup.to_csv('Output.csv',index = False)"
   ]
  },
  {
   "cell_type": "code",
   "execution_count": null,
   "metadata": {},
   "outputs": [],
   "source": []
  }
 ],
 "metadata": {
  "kernelspec": {
   "display_name": "Python 3",
   "language": "python",
   "name": "python3"
  },
  "language_info": {
   "codemirror_mode": {
    "name": "ipython",
    "version": 3
   },
   "file_extension": ".py",
   "mimetype": "text/x-python",
   "name": "python",
   "nbconvert_exporter": "python",
   "pygments_lexer": "ipython3",
   "version": "3.6.5"
  }
 },
 "nbformat": 4,
 "nbformat_minor": 2
}
