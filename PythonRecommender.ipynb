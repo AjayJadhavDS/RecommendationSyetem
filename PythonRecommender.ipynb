{
 "cells": [
  {
   "cell_type": "code",
   "execution_count": 82,
   "metadata": {},
   "outputs": [],
   "source": [
    "import pandas as pd\n",
    "df = pd.read_csv(\"C:/Users/dell/Downloads/ccx_row_input_data.csv\",encoding='latin-1')"
   ]
  },
  {
   "cell_type": "code",
   "execution_count": 83,
   "metadata": {},
   "outputs": [
    {
     "data": {
      "text/html": [
       "<div>\n",
       "<style scoped>\n",
       "    .dataframe tbody tr th:only-of-type {\n",
       "        vertical-align: middle;\n",
       "    }\n",
       "\n",
       "    .dataframe tbody tr th {\n",
       "        vertical-align: top;\n",
       "    }\n",
       "\n",
       "    .dataframe thead th {\n",
       "        text-align: right;\n",
       "    }\n",
       "</style>\n",
       "<table border=\"1\" class=\"dataframe\">\n",
       "  <thead>\n",
       "    <tr style=\"text-align: right;\">\n",
       "      <th></th>\n",
       "      <th>profileId</th>\n",
       "      <th>programId</th>\n",
       "      <th>score</th>\n",
       "      <th>name</th>\n",
       "      <th>showType</th>\n",
       "      <th>language</th>\n",
       "      <th>languageShort</th>\n",
       "      <th>originalAssetId</th>\n",
       "      <th>source</th>\n",
       "    </tr>\n",
       "  </thead>\n",
       "  <tbody>\n",
       "    <tr>\n",
       "      <th>0</th>\n",
       "      <td>[ee535a1d-6034-4bd9-a154-b21dd7a8e03c]</td>\n",
       "      <td>667969ThirdParty3331353638303536</td>\n",
       "      <td>30.00</td>\n",
       "      <td>L'enlÌ¬vement 2</td>\n",
       "      <td>Movie</td>\n",
       "      <td>fr</td>\n",
       "      <td>fr</td>\n",
       "      <td>ASTR1000000700030953</td>\n",
       "      <td>assetDetails</td>\n",
       "    </tr>\n",
       "    <tr>\n",
       "      <th>1</th>\n",
       "      <td>[df82733a-97c1-4002-81fa-fe6933600eb3]</td>\n",
       "      <td>667969ThirdParty3332393432343436</td>\n",
       "      <td>30.00</td>\n",
       "      <td>ÌÛ la valdrague</td>\n",
       "      <td>TVShow</td>\n",
       "      <td>fr</td>\n",
       "      <td>fr</td>\n",
       "      <td>DELP0020000000890200</td>\n",
       "      <td>assetDetails</td>\n",
       "    </tr>\n",
       "    <tr>\n",
       "      <th>2</th>\n",
       "      <td>[15221437-5617-4bba-a57e-ab7febed831e]</td>\n",
       "      <td>667969ThirdParty373732323236</td>\n",
       "      <td>30.00</td>\n",
       "      <td>Taking Chance</td>\n",
       "      <td>Movie</td>\n",
       "      <td>en</td>\n",
       "      <td>en</td>\n",
       "      <td>CPHD2243773000000001</td>\n",
       "      <td>assetDetails</td>\n",
       "    </tr>\n",
       "    <tr>\n",
       "      <th>3</th>\n",
       "      <td>[c6f96fd7-a955-4fb2-9446-06be4d80e09a]</td>\n",
       "      <td>667969ThirdParty3330313932323231</td>\n",
       "      <td>10.64</td>\n",
       "      <td>Rapides et dangereux</td>\n",
       "      <td>Movie</td>\n",
       "      <td>fr</td>\n",
       "      <td>fr</td>\n",
       "      <td>AAAA0000000016209900</td>\n",
       "      <td>assetDetails</td>\n",
       "    </tr>\n",
       "    <tr>\n",
       "      <th>4</th>\n",
       "      <td>[ea34f2aa-0baa-49e3-b7a7-a7873b2b8db6]</td>\n",
       "      <td>667969ThirdParty3330313932323231</td>\n",
       "      <td>35.48</td>\n",
       "      <td>Rapides et dangereux</td>\n",
       "      <td>Movie</td>\n",
       "      <td>fr</td>\n",
       "      <td>fr</td>\n",
       "      <td>AAAA0000000016209900</td>\n",
       "      <td>assetDetails</td>\n",
       "    </tr>\n",
       "  </tbody>\n",
       "</table>\n",
       "</div>"
      ],
      "text/plain": [
       "                                profileId                         programId  \\\n",
       "0  [ee535a1d-6034-4bd9-a154-b21dd7a8e03c]  667969ThirdParty3331353638303536   \n",
       "1  [df82733a-97c1-4002-81fa-fe6933600eb3]  667969ThirdParty3332393432343436   \n",
       "2  [15221437-5617-4bba-a57e-ab7febed831e]      667969ThirdParty373732323236   \n",
       "3  [c6f96fd7-a955-4fb2-9446-06be4d80e09a]  667969ThirdParty3330313932323231   \n",
       "4  [ea34f2aa-0baa-49e3-b7a7-a7873b2b8db6]  667969ThirdParty3330313932323231   \n",
       "\n",
       "   score                  name showType language languageShort  \\\n",
       "0  30.00       L'enlÌ¬vement 2    Movie       fr            fr   \n",
       "1  30.00       ÌÛ la valdrague   TVShow       fr            fr   \n",
       "2  30.00         Taking Chance    Movie       en            en   \n",
       "3  10.64  Rapides et dangereux    Movie       fr            fr   \n",
       "4  35.48  Rapides et dangereux    Movie       fr            fr   \n",
       "\n",
       "        originalAssetId        source  \n",
       "0  ASTR1000000700030953  assetDetails  \n",
       "1  DELP0020000000890200  assetDetails  \n",
       "2  CPHD2243773000000001  assetDetails  \n",
       "3  AAAA0000000016209900  assetDetails  \n",
       "4  AAAA0000000016209900  assetDetails  "
      ]
     },
     "execution_count": 83,
     "metadata": {},
     "output_type": "execute_result"
    }
   ],
   "source": [
    "df.head()"
   ]
  },
  {
   "cell_type": "code",
   "execution_count": 84,
   "metadata": {},
   "outputs": [],
   "source": [
    "#ScoreRules(Map(favorite -> 60, details-view -> 10, asset-purchase -> 100, rented -> 90, \n",
    "#un-favorite -> 0, vod-playback-completed -> 90, vod-playback-start -> 30))\n",
    "\n",
    "# ALS MODEL,KNN,SVD, NEUTRAL and the accuracy of model and give recommendation to each user"
   ]
  },
  {
   "cell_type": "code",
   "execution_count": 85,
   "metadata": {},
   "outputs": [
    {
     "data": {
      "text/plain": [
       "Movie     6055\n",
       "TVShow    3621\n",
       "Name: showType, dtype: int64"
      ]
     },
     "execution_count": 85,
     "metadata": {},
     "output_type": "execute_result"
    }
   ],
   "source": [
    "df.showType.value_counts()"
   ]
  },
  {
   "cell_type": "code",
   "execution_count": 86,
   "metadata": {},
   "outputs": [],
   "source": [
    "import sys\n",
    "import pandas as pd\n",
    "import numpy as np\n",
    "import scipy.sparse as sparse\n",
    "from scipy.sparse.linalg import spsolve\n",
    "import random\n",
    "from sklearn.preprocessing import MinMaxScaler\n",
    "import implicit # The Cython library"
   ]
  },
  {
   "cell_type": "code",
   "execution_count": 118,
   "metadata": {},
   "outputs": [],
   "source": [
    "df = df[['profileId', 'programId', 'score', 'name']]"
   ]
  },
  {
   "cell_type": "code",
   "execution_count": 119,
   "metadata": {},
   "outputs": [],
   "source": [
    "data = df.dropna()"
   ]
  },
  {
   "cell_type": "code",
   "execution_count": 120,
   "metadata": {},
   "outputs": [],
   "source": [
    "from sklearn.preprocessing import LabelEncoder\n",
    "le = LabelEncoder()"
   ]
  },
  {
   "cell_type": "code",
   "execution_count": 121,
   "metadata": {},
   "outputs": [],
   "source": [
    "data['profileId'] = data['profileId'].astype(\"category\")\n",
    "data['profileId'] = le.fit_transform(data['profileId'])"
   ]
  },
  {
   "cell_type": "code",
   "execution_count": 122,
   "metadata": {},
   "outputs": [],
   "source": [
    "data['programId'] = data['programId'].astype(\"category\")\n",
    "le_1 = LabelEncoder()\n",
    "data['programId'] = le_1.fit_transform(data['programId'])"
   ]
  },
  {
   "cell_type": "code",
   "execution_count": 123,
   "metadata": {},
   "outputs": [],
   "source": [
    "data['name'] = data['name'].astype(\"category\")\n",
    "le_2 = LabelEncoder()\n",
    "data['name'] = le_2.fit_transform(data['name'])\n"
   ]
  },
  {
   "cell_type": "code",
   "execution_count": 124,
   "metadata": {},
   "outputs": [],
   "source": [
    "sparse_item_user = sparse.csr_matrix((data['name'].astype(float), (data['profileId'], data['programId'])))\n",
    "sparse_user_item = sparse.csr_matrix((data['name'].astype(float), (data['programId'], data['profileId'])))\n"
   ]
  },
  {
   "cell_type": "code",
   "execution_count": 125,
   "metadata": {},
   "outputs": [
    {
     "data": {
      "application/vnd.jupyter.widget-view+json": {
       "model_id": "59a51b5dc2f34f31afddfd751ff2ef24",
       "version_major": 2,
       "version_minor": 0
      },
      "text/plain": [
       "HBox(children=(IntProgress(value=0, max=20), HTML(value='')))"
      ]
     },
     "metadata": {},
     "output_type": "display_data"
    },
    {
     "name": "stdout",
     "output_type": "stream",
     "text": [
      "\n"
     ]
    }
   ],
   "source": [
    "model = implicit.als.AlternatingLeastSquares(factors=20, regularization=0.1, iterations=20)\n",
    "\n",
    "\n",
    "alpha_val = 40\n",
    "data_conf = (sparse_item_user * alpha_val).astype('double')\n",
    "\n",
    "\n",
    "model.fit(data_conf)"
   ]
  },
  {
   "cell_type": "code",
   "execution_count": 126,
   "metadata": {},
   "outputs": [
    {
     "name": "stdout",
     "output_type": "stream",
     "text": [
      "[(160, 0.85518754), (116, 0.8532704), (405, 0.8479298), (1, 0.83914936), (627, 0.82325965), (31, 0.82067764), (307, 0.8188943), (624, 0.8067285), (309, 0.8063899), (662, 0.79505545)]\n"
     ]
    }
   ],
   "source": [
    "user_id =   14\n",
    "recommended = model.recommend(user_id, sparse_user_item)\n",
    "print(recommended)"
   ]
  },
  {
   "cell_type": "code",
   "execution_count": 127,
   "metadata": {},
   "outputs": [
    {
     "name": "stdout",
     "output_type": "stream",
     "text": [
      "[(7, 0.02331074), (606, 0.016122831), (605, 0.016004242)]\n"
     ]
    }
   ],
   "source": [
    "#Get similar items\n",
    "item_id = 7\n",
    "n_similar = 3\n",
    "similar = model.similar_items(item_id, n_similar)\n",
    "print(similar)\n"
   ]
  },
  {
   "cell_type": "raw",
   "metadata": {},
   "source": [
    "1.Split data into training and testing using KFold method\n",
    "2.Build model using ALS\n",
    "3.Calculate precision and Recall\n",
    "4 calculate Accuracy of model\n",
    "5.Output recommendation for each user with User id give in csv"
   ]
  },
  {
   "cell_type": "code",
   "execution_count": 128,
   "metadata": {},
   "outputs": [
    {
     "data": {
      "application/vnd.jupyter.widget-view+json": {
       "model_id": "9a71b48ba8c14bf5b6431b65e962be4b",
       "version_major": 2,
       "version_minor": 0
      },
      "text/plain": [
       "HBox(children=(IntProgress(value=0, max=20), HTML(value='')))"
      ]
     },
     "metadata": {},
     "output_type": "display_data"
    },
    {
     "name": "stdout",
     "output_type": "stream",
     "text": [
      "\n"
     ]
    }
   ],
   "source": [
    "model.fit(sparse_item_user)"
   ]
  },
  {
   "cell_type": "code",
   "execution_count": 146,
   "metadata": {},
   "outputs": [
    {
     "data": {
      "text/plain": [
       "[(667, 0.42453563),\n",
       " (309, 0.39631045),\n",
       " (65, 0.38174456),\n",
       " (426, 0.36204422),\n",
       " (266, 0.3428424)]"
      ]
     },
     "execution_count": 146,
     "metadata": {},
     "output_type": "execute_result"
    }
   ],
   "source": [
    "model.recommend(7,sparse_user_item,N=5)"
   ]
  },
  {
   "cell_type": "code",
   "execution_count": 143,
   "metadata": {},
   "outputs": [
    {
     "data": {
      "text/plain": [
       "'TripTank'"
      ]
     },
     "execution_count": 143,
     "metadata": {},
     "output_type": "execute_result"
    }
   ],
   "source": [
    "df['name'][df.programId==le_1.inverse_transform([453]).item()].values[0]"
   ]
  },
  {
   "cell_type": "code",
   "execution_count": null,
   "metadata": {},
   "outputs": [],
   "source": []
  }
 ],
 "metadata": {
  "kernelspec": {
   "display_name": "Python 3",
   "language": "python",
   "name": "python3"
  },
  "language_info": {
   "codemirror_mode": {
    "name": "ipython",
    "version": 3
   },
   "file_extension": ".py",
   "mimetype": "text/x-python",
   "name": "python",
   "nbconvert_exporter": "python",
   "pygments_lexer": "ipython3",
   "version": "3.6.5"
  }
 },
 "nbformat": 4,
 "nbformat_minor": 2
}
